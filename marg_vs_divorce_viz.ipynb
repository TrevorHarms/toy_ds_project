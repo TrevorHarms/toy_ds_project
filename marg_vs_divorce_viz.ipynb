{
 "cells": [
  {
   "cell_type": "code",
   "execution_count": null,
   "id": "ea392aa2-e672-4a8c-a42e-52fb4e224e6a",
   "metadata": {
    "tags": []
   },
   "outputs": [],
   "source": [
    "pip install -U altair"
   ]
  },
  {
   "cell_type": "code",
   "execution_count": 4,
   "id": "38979586-2ae8-4826-9a46-5705d5b66fac",
   "metadata": {
    "tags": []
   },
   "outputs": [
    {
     "data": {
      "text/html": [
       "\n",
       "<style>\n",
       "  #altair-viz-1a5d7f45a0b6401283e2496e0ab78e59.vega-embed {\n",
       "    width: 100%;\n",
       "    display: flex;\n",
       "  }\n",
       "\n",
       "  #altair-viz-1a5d7f45a0b6401283e2496e0ab78e59.vega-embed details,\n",
       "  #altair-viz-1a5d7f45a0b6401283e2496e0ab78e59.vega-embed details summary {\n",
       "    position: relative;\n",
       "  }\n",
       "</style>\n",
       "<div id=\"altair-viz-1a5d7f45a0b6401283e2496e0ab78e59\"></div>\n",
       "<script type=\"text/javascript\">\n",
       "  var VEGA_DEBUG = (typeof VEGA_DEBUG == \"undefined\") ? {} : VEGA_DEBUG;\n",
       "  (function(spec, embedOpt){\n",
       "    let outputDiv = document.currentScript.previousElementSibling;\n",
       "    if (outputDiv.id !== \"altair-viz-1a5d7f45a0b6401283e2496e0ab78e59\") {\n",
       "      outputDiv = document.getElementById(\"altair-viz-1a5d7f45a0b6401283e2496e0ab78e59\");\n",
       "    }\n",
       "    const paths = {\n",
       "      \"vega\": \"https://cdn.jsdelivr.net/npm/vega@5?noext\",\n",
       "      \"vega-lib\": \"https://cdn.jsdelivr.net/npm/vega-lib?noext\",\n",
       "      \"vega-lite\": \"https://cdn.jsdelivr.net/npm/vega-lite@5.15.1?noext\",\n",
       "      \"vega-embed\": \"https://cdn.jsdelivr.net/npm/vega-embed@6?noext\",\n",
       "    };\n",
       "\n",
       "    function maybeLoadScript(lib, version) {\n",
       "      var key = `${lib.replace(\"-\", \"\")}_version`;\n",
       "      return (VEGA_DEBUG[key] == version) ?\n",
       "        Promise.resolve(paths[lib]) :\n",
       "        new Promise(function(resolve, reject) {\n",
       "          var s = document.createElement('script');\n",
       "          document.getElementsByTagName(\"head\")[0].appendChild(s);\n",
       "          s.async = true;\n",
       "          s.onload = () => {\n",
       "            VEGA_DEBUG[key] = version;\n",
       "            return resolve(paths[lib]);\n",
       "          };\n",
       "          s.onerror = () => reject(`Error loading script: ${paths[lib]}`);\n",
       "          s.src = paths[lib];\n",
       "        });\n",
       "    }\n",
       "\n",
       "    function showError(err) {\n",
       "      outputDiv.innerHTML = `<div class=\"error\" style=\"color:red;\">${err}</div>`;\n",
       "      throw err;\n",
       "    }\n",
       "\n",
       "    function displayChart(vegaEmbed) {\n",
       "      vegaEmbed(outputDiv, spec, embedOpt)\n",
       "        .catch(err => showError(`Javascript Error: ${err.message}<br>This usually means there's a typo in your chart specification. See the javascript console for the full traceback.`));\n",
       "    }\n",
       "\n",
       "    if(typeof define === \"function\" && define.amd) {\n",
       "      requirejs.config({paths});\n",
       "      require([\"vega-embed\"], displayChart, err => showError(`Error loading script: ${err.message}`));\n",
       "    } else {\n",
       "      maybeLoadScript(\"vega\", \"5\")\n",
       "        .then(() => maybeLoadScript(\"vega-lite\", \"5.15.1\"))\n",
       "        .then(() => maybeLoadScript(\"vega-embed\", \"6\"))\n",
       "        .catch(showError)\n",
       "        .then(() => displayChart(vegaEmbed));\n",
       "    }\n",
       "  })({\"config\": {\"view\": {\"continuousWidth\": 300, \"continuousHeight\": 300}}, \"hconcat\": [{\"mark\": {\"type\": \"line\", \"color\": \"steelblue\"}, \"encoding\": {\"x\": {\"field\": \"year\", \"title\": \"Year\", \"type\": \"quantitative\"}, \"y\": {\"field\": \"margarine_consumption\", \"scale\": {\"zero\": false}, \"title\": \"Margarine consumption (lbs per capita)\", \"type\": \"quantitative\"}}, \"height\": 250}, {\"mark\": {\"type\": \"line\", \"color\": \"coral\"}, \"encoding\": {\"x\": {\"field\": \"year\", \"title\": \"Year\", \"type\": \"quantitative\"}, \"y\": {\"field\": \"maine_divorce_rate\", \"scale\": {\"zero\": false}, \"title\": \"Divorce rate in Maine (per 1000\", \"type\": \"quantitative\"}}, \"height\": 250}], \"data\": {\"name\": \"data-de09336ee52942bca3822a378ff98ae1\"}, \"title\": \"Divorce rate in Maine correlates with margarine consumption\", \"$schema\": \"https://vega.github.io/schema/vega-lite/v5.15.1.json\", \"datasets\": {\"data-de09336ee52942bca3822a378ff98ae1\": [{\"margarine_consumption\": 8.2, \"maine_divorce_rate\": 5.0, \"year\": 2000}, {\"margarine_consumption\": 7.0, \"maine_divorce_rate\": 4.7, \"year\": 2001}, {\"margarine_consumption\": 6.5, \"maine_divorce_rate\": 4.6, \"year\": 2002}, {\"margarine_consumption\": 5.3, \"maine_divorce_rate\": 4.4, \"year\": 2003}, {\"margarine_consumption\": 5.2, \"maine_divorce_rate\": 4.3, \"year\": 2004}, {\"margarine_consumption\": 4.0, \"maine_divorce_rate\": 4.1, \"year\": 2005}, {\"margarine_consumption\": 4.6, \"maine_divorce_rate\": 4.2, \"year\": 2006}, {\"margarine_consumption\": 4.5, \"maine_divorce_rate\": 4.2, \"year\": 2007}, {\"margarine_consumption\": 4.2, \"maine_divorce_rate\": 4.2, \"year\": 2008}, {\"margarine_consumption\": 3.7, \"maine_divorce_rate\": 4.1, \"year\": 2009}]}}, {\"mode\": \"vega-lite\"});\n",
       "</script>"
      ],
      "text/plain": [
       "alt.HConcatChart(...)"
      ]
     },
     "execution_count": 4,
     "metadata": {},
     "output_type": "execute_result"
    }
   ],
   "source": [
    "import altair as alt\n",
    "import pandas as pd\n",
    "\n",
    "\n",
    "should_have_bought_butter = pd.DataFrame({\n",
    "    \"margarine_consumption\": [8.2, 7, 6.5, 5.3, 5.2, 4, 4.6, 4.5, 4.2, 3.7],\n",
    "    \"maine_divorce_rate\": [5, 4.7, 4.6, 4.4, 4.3, 4.1, 4.2, 4.2, 4.2, 4.1],\n",
    "    \"year\": [2000, 2001, 2002, 2003, 2004, 2005, 2006, 2007, 2008, 2009]\n",
    "})\n",
    "\n",
    "marg_vs_time = alt.Chart(should_have_bought_butter).mark_line(color=\"steelblue\").encode(\n",
    "    x=alt.X(\"year\").title(\"Year\"),\n",
    "    y=alt.Y(\"margarine_consumption\")\n",
    "        .title(\"Margarine consumption (lbs per capita)\")\n",
    "        .scale(zero=False)\n",
    ").properties(\n",
    "    height=250\n",
    ")\n",
    "\n",
    "\n",
    "divorce_rate_vs_time = marg_vs_time.mark_line(color=\"coral\").encode(\n",
    "    y=alt.Y(\"maine_divorce_rate\")\n",
    "        .title(\"Divorce rate in Maine (per 1000\")\n",
    "        .scale(zero=False)\n",
    ")\n",
    "\n",
    "(marg_vs_time | divorce_rate_vs_time).properties(\n",
    "    title=\"Divorce rate in Maine correlates with margarine consumption\"\n",
    ")"
   ]
  },
  {
   "cell_type": "code",
   "execution_count": 6,
   "id": "287d7af7-75b3-41d7-9dc1-02d92a4585db",
   "metadata": {
    "tags": []
   },
   "outputs": [
    {
     "data": {
      "text/html": [
       "<div>\n",
       "<style scoped>\n",
       "    .dataframe tbody tr th:only-of-type {\n",
       "        vertical-align: middle;\n",
       "    }\n",
       "\n",
       "    .dataframe tbody tr th {\n",
       "        vertical-align: top;\n",
       "    }\n",
       "\n",
       "    .dataframe thead th {\n",
       "        text-align: right;\n",
       "    }\n",
       "</style>\n",
       "<table border=\"1\" class=\"dataframe\">\n",
       "  <thead>\n",
       "    <tr style=\"text-align: right;\">\n",
       "      <th></th>\n",
       "      <th>margarine_consumption</th>\n",
       "      <th>maine_divorce_rate</th>\n",
       "      <th>year</th>\n",
       "    </tr>\n",
       "  </thead>\n",
       "  <tbody>\n",
       "    <tr>\n",
       "      <th>0</th>\n",
       "      <td>8.2</td>\n",
       "      <td>5.0</td>\n",
       "      <td>2000</td>\n",
       "    </tr>\n",
       "    <tr>\n",
       "      <th>1</th>\n",
       "      <td>7.0</td>\n",
       "      <td>4.7</td>\n",
       "      <td>2001</td>\n",
       "    </tr>\n",
       "    <tr>\n",
       "      <th>2</th>\n",
       "      <td>6.5</td>\n",
       "      <td>4.6</td>\n",
       "      <td>2002</td>\n",
       "    </tr>\n",
       "    <tr>\n",
       "      <th>3</th>\n",
       "      <td>5.3</td>\n",
       "      <td>4.4</td>\n",
       "      <td>2003</td>\n",
       "    </tr>\n",
       "    <tr>\n",
       "      <th>4</th>\n",
       "      <td>5.2</td>\n",
       "      <td>4.3</td>\n",
       "      <td>2004</td>\n",
       "    </tr>\n",
       "    <tr>\n",
       "      <th>5</th>\n",
       "      <td>4.0</td>\n",
       "      <td>4.1</td>\n",
       "      <td>2005</td>\n",
       "    </tr>\n",
       "    <tr>\n",
       "      <th>6</th>\n",
       "      <td>4.6</td>\n",
       "      <td>4.2</td>\n",
       "      <td>2006</td>\n",
       "    </tr>\n",
       "    <tr>\n",
       "      <th>7</th>\n",
       "      <td>4.5</td>\n",
       "      <td>4.2</td>\n",
       "      <td>2007</td>\n",
       "    </tr>\n",
       "    <tr>\n",
       "      <th>8</th>\n",
       "      <td>4.2</td>\n",
       "      <td>4.2</td>\n",
       "      <td>2008</td>\n",
       "    </tr>\n",
       "    <tr>\n",
       "      <th>9</th>\n",
       "      <td>3.7</td>\n",
       "      <td>4.1</td>\n",
       "      <td>2009</td>\n",
       "    </tr>\n",
       "  </tbody>\n",
       "</table>\n",
       "</div>"
      ],
      "text/plain": [
       "   margarine_consumption  maine_divorce_rate  year\n",
       "0                    8.2                 5.0  2000\n",
       "1                    7.0                 4.7  2001\n",
       "2                    6.5                 4.6  2002\n",
       "3                    5.3                 4.4  2003\n",
       "4                    5.2                 4.3  2004\n",
       "5                    4.0                 4.1  2005\n",
       "6                    4.6                 4.2  2006\n",
       "7                    4.5                 4.2  2007\n",
       "8                    4.2                 4.2  2008\n",
       "9                    3.7                 4.1  2009"
      ]
     },
     "execution_count": 6,
     "metadata": {},
     "output_type": "execute_result"
    }
   ],
   "source": [
    "should_have_bought_butter"
   ]
  },
  {
   "cell_type": "code",
   "execution_count": 11,
   "id": "020e4ecd-0f6d-47b0-b4d1-5c58f1f4c976",
   "metadata": {
    "tags": []
   },
   "outputs": [
    {
     "ename": "NameError",
     "evalue": "name 'mean' is not defined",
     "output_type": "error",
     "traceback": [
      "\u001b[0;31m---------------------------------------------------------------------------\u001b[0m",
      "\u001b[0;31mNameError\u001b[0m                                 Traceback (most recent call last)",
      "Cell \u001b[0;32mIn[11], line 1\u001b[0m\n\u001b[0;32m----> 1\u001b[0m average_butter_consumption \u001b[38;5;241m=\u001b[39m should_have_bought_butter[\u001b[38;5;124m'\u001b[39m\u001b[38;5;124mmargarine_consumption\u001b[39m\u001b[38;5;124m'\u001b[39m]\u001b[38;5;241m.\u001b[39magg(\u001b[43mmean\u001b[49m)\n\u001b[1;32m      2\u001b[0m average_butter_consumption\n",
      "\u001b[0;31mNameError\u001b[0m: name 'mean' is not defined"
     ]
    }
   ],
   "source": [
    "average_butter_consumption = should_have_bought_butter['margarine_consumption'].agg(mean)\n",
    "average_butter_consumption"
   ]
  },
  {
   "cell_type": "code",
   "execution_count": null,
   "id": "87a3ec56-cb2a-442f-a45f-af1760ed8c80",
   "metadata": {},
   "outputs": [],
   "source": []
  }
 ],
 "metadata": {
  "kernelspec": {
   "display_name": "Python 3 (ipykernel)",
   "language": "python",
   "name": "python3"
  },
  "language_info": {
   "codemirror_mode": {
    "name": "ipython",
    "version": 3
   },
   "file_extension": ".py",
   "mimetype": "text/x-python",
   "name": "python",
   "nbconvert_exporter": "python",
   "pygments_lexer": "ipython3",
   "version": "3.10.8"
  }
 },
 "nbformat": 4,
 "nbformat_minor": 5
}
